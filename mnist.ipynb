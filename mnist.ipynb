{
 "cells": [
  {
   "cell_type": "markdown",
   "metadata": {},
   "source": [
    "## Load Data"
   ]
  },
  {
   "cell_type": "code",
   "execution_count": 10,
   "metadata": {},
   "outputs": [],
   "source": [
    "from torch.utils.data import DataLoader\n",
    "from torchvision import datasets, transforms\n",
    "\n",
    "batch_size = 128\n",
    "\n",
    "transform = transforms.Compose([\n",
    "    transforms.ToTensor(),\n",
    "    transforms.Pad(2),\n",
    "    transforms.Normalize((0.5,), (0.5,)),\n",
    "])\n",
    "\n",
    "train_set = datasets.MNIST(\n",
    "    root=\"data\",\n",
    "    transform=transform,\n",
    "    train=True,\n",
    "    download=True\n",
    ")\n",
    "train_loader = DataLoader(\n",
    "    dataset=train_set,\n",
    "    batch_size=batch_size,\n",
    "    pin_memory=True,\n",
    "    shuffle=True\n",
    ")\n",
    "\n",
    "test_set = datasets.MNIST(\n",
    "    root=\"data\",\n",
    "    transform=transform,\n",
    "    train=False,\n",
    "    download=True\n",
    ")\n",
    "test_loader = DataLoader(\n",
    "    dataset=test_set,\n",
    "    batch_size=batch_size,\n",
    "    pin_memory=True,\n",
    "    shuffle=False\n",
    ")"
   ]
  },
  {
   "cell_type": "markdown",
   "metadata": {},
   "source": [
    "## Define Net"
   ]
  },
  {
   "cell_type": "code",
   "execution_count": 15,
   "metadata": {},
   "outputs": [],
   "source": [
    "from torch import nn\n",
    "from pathlib import Path\n",
    "\n",
    "model_dir = Path('models')\n",
    "model_dir.mkdir(exist_ok=True)\n",
    "\n",
    "\n",
    "def flatten_size(sz):\n",
    "    # tensor size: [batch, channel, height, width]\n",
    "    # we need `channel * height * width``\n",
    "    per_size = sz.size()[1:]\n",
    "    res = 1\n",
    "    for i in per_size:\n",
    "        res *= i\n",
    "    return res\n",
    "\n",
    "\n",
    "class CNN(nn.Module):\n",
    "    NAME = \"simple_cnn\"\n",
    "\n",
    "    def __init__(self):\n",
    "        super().__init__()\n",
    "        self.conv = nn.Sequential(\n",
    "            nn.Conv2d(1, 64, kernel_size=3, stride=1, padding=1),\n",
    "            nn.ReLU(),\n",
    "            nn.Conv2d(64, 128, kernel_size=3, stride=1, padding=1),\n",
    "            nn.ReLU(),\n",
    "            nn.MaxPool2d(stride=2, kernel_size=2)\n",
    "        )\n",
    "        self.fc = nn.Sequential(\n",
    "            nn.Linear(16 * 16 * 128, 1024),\n",
    "            nn.ReLU(),\n",
    "            nn.Dropout(p=0.5),\n",
    "            nn.Linear(1024, 10)\n",
    "        )\n",
    "\n",
    "    def forward(self, x):\n",
    "        x = self.conv(x)\n",
    "        x = x.view(-1, flatten_size(x))\n",
    "        x = self.fc(x)\n",
    "        return x\n",
    "\n",
    "\n",
    "class LeNet(nn.Module):\n",
    "    NAME = \"lenet\"\n",
    "\n",
    "    def __init__(self):\n",
    "        super().__init__()\n",
    "        self.conv = nn.Sequential(\n",
    "            nn.Conv2d(1, 6, 3),\n",
    "            nn.ReLU(),\n",
    "            nn.MaxPool2d(2),\n",
    "            nn.Conv2d(6, 16, 3),\n",
    "            nn.ReLU(),\n",
    "            nn.MaxPool2d(2)\n",
    "        )\n",
    "        self.fc = nn.Sequential(\n",
    "            nn.Linear(16 * 6 * 6, 120),\n",
    "            nn.ReLU(),\n",
    "            nn.Linear(120, 84),\n",
    "            nn.ReLU(),\n",
    "            nn.Linear(84, 10)\n",
    "        )\n",
    "\n",
    "    def forward(self, x):\n",
    "        x = self.conv(x)\n",
    "        x = x.view(-1, flatten_size(x))\n",
    "        x = self.fc(x)\n",
    "        return x\n",
    "\n",
    "\n",
    "Net = CNN"
   ]
  },
  {
   "cell_type": "markdown",
   "metadata": {},
   "source": [
    "## Train"
   ]
  },
  {
   "cell_type": "code",
   "execution_count": 3,
   "metadata": {},
   "outputs": [
    {
     "name": "stdout",
     "output_type": "stream",
     "text": [
      "Net: cnn, Epoch: 1/5, Average Loss: 0.001, Train Accuracy: 0.952\n",
      "Net: cnn, Epoch: 2/5, Average Loss: 0.000, Train Accuracy: 0.986\n",
      "Net: cnn, Epoch: 3/5, Average Loss: 0.000, Train Accuracy: 0.989\n",
      "Net: cnn, Epoch: 4/5, Average Loss: 0.000, Train Accuracy: 0.992\n",
      "Net: cnn, Epoch: 5/5, Average Loss: 0.000, Train Accuracy: 0.994\n"
     ]
    }
   ],
   "source": [
    "import torch\n",
    "\n",
    "net = Net().cuda()\n",
    "model_path = model_dir / '{}.pth'.format(net.NAME)\n",
    "cost = torch.nn.CrossEntropyLoss().cuda()\n",
    "optimizer = torch.optim.Adam(net.parameters())\n",
    "epochs = 5\n",
    "\n",
    "epochs_list = []\n",
    "accuracies_list = []\n",
    "for epoch in range(epochs):\n",
    "    running_loss = 0.0\n",
    "    total = 0\n",
    "    correct = 0\n",
    "    for data in train_loader:\n",
    "        # get the inputs; data is a list of [inputs, labels]\n",
    "        inputs = data[0].cuda()\n",
    "        labels = data[1].cuda()\n",
    "\n",
    "        # zero the parameter gradients\n",
    "        optimizer.zero_grad()\n",
    "\n",
    "        # forward\n",
    "        outputs = net(inputs)\n",
    "        # print(outputs.size())\n",
    "        # break\n",
    "\n",
    "        # backward + optimize\n",
    "        loss = cost(outputs, labels)\n",
    "        loss.backward()\n",
    "        optimizer.step()\n",
    "\n",
    "        # statistics\n",
    "        running_loss += loss.item()\n",
    "        total += labels.size(0)\n",
    "        _, predicted = torch.max(outputs.data, 1)\n",
    "        correct += (predicted == labels).sum().item()\n",
    "    print('Net: {}, Epoch: {}/{}, Average Loss: {:.3f}, Train Accuracy: {:.3f}'.format(\n",
    "        net.NAME, epoch + 1, epochs, running_loss / total, correct / total))\n",
    "    epochs_list.append(epoch + 1)\n",
    "    accuracies_list.append(correct / total)"
   ]
  },
  {
   "cell_type": "code",
   "execution_count": 4,
   "metadata": {},
   "outputs": [
    {
     "data": {
      "image/png": "[encoded data removed]",
      "text/plain": [
       "<Figure size 432x288 with 1 Axes>"
      ]
     },
     "metadata": {
      "needs_background": "light"
     },
     "output_type": "display_data"
    }
   ],
   "source": [
    "%matplotlib inline\n",
    "import matplotlib.pyplot as plt\n",
    "\n",
    "# statistical chart\n",
    "plt.plot(epochs_list, accuracies_list)\n",
    "plt.show()\n",
    "\n",
    "# save model\n",
    "torch.save(net.state_dict(), model_path)"
   ]
  },
  {
   "cell_type": "markdown",
   "metadata": {},
   "source": [
    "## Test"
   ]
  },
  {
   "cell_type": "code",
   "execution_count": 5,
   "metadata": {},
   "outputs": [
    {
     "name": "stdout",
     "output_type": "stream",
     "text": [
      "Net loaded\n",
      "Accuracy: 9870 / 10000 = 0.987\n"
     ]
    }
   ],
   "source": [
    "import torch\n",
    "\n",
    "# load net\n",
    "net = Net().cuda()\n",
    "model_path = model_dir / '{}.pth'.format(net.NAME)\n",
    "net.load_state_dict(torch.load(model_path))\n",
    "print('Net loaded')\n",
    "\n",
    "# test\n",
    "correct = 0\n",
    "total = 0\n",
    "with torch.no_grad():\n",
    "    for data in test_loader:\n",
    "        images, labels = data[0].cuda(), data[1].cuda()\n",
    "        outputs = net(images)\n",
    "        _, predicted = torch.max(outputs.data, 1)\n",
    "        total += labels.size(0)\n",
    "        correct += (predicted == labels).sum().item()\n",
    "print('Accuracy: {} / {} = {}'.format(correct, total, correct / total))"
   ]
  },
  {
   "cell_type": "markdown",
   "metadata": {},
   "source": [
    "## Test custom data"
   ]
  },
  {
   "cell_type": "code",
   "execution_count": 16,
   "metadata": {},
   "outputs": [
    {
     "data": {
      "image/png": "[encoded data removed]",
      "text/plain": [
       "<Figure size 432x288 with 6 Axes>"
      ]
     },
     "metadata": {
      "needs_background": "light"
     },
     "output_type": "display_data"
    },
    {
     "name": "stdout",
     "output_type": "stream",
     "text": [
      "Net loaded\n",
      "Predict: [1, 1, 4, 5, 1, 1]\n"
     ]
    }
   ],
   "source": [
    "from pathlib import Path\n",
    "from PIL import Image\n",
    "%matplotlib inline\n",
    "import matplotlib.pyplot as plt\n",
    "import torch\n",
    "\n",
    "custom_dir = Path('custom_data')\n",
    "data_dir = custom_dir / '1'\n",
    "\n",
    "# read images\n",
    "imgs = [(int(i.stem), i) for i in data_dir.glob('*.png')]\n",
    "imgs.sort()\n",
    "imgs = [Image.open(i[1]) for i in imgs]\n",
    "\n",
    "# echo images\n",
    "fig, axs = plt.subplots(1, len(imgs))\n",
    "for img, ax in zip(imgs, axs):\n",
    "    ax.imshow(img, cmap='gray', vmin=0, vmax=255)\n",
    "plt.show()\n",
    "\n",
    "# convert to tensor\n",
    "imgs = torch.stack([transform(i) for i in imgs])\n",
    "\n",
    "# load net\n",
    "net = Net().cuda()\n",
    "model_path = model_dir / '{}.pth'.format(net.NAME)\n",
    "net.load_state_dict(torch.load(model_path))\n",
    "print('Net loaded')\n",
    "\n",
    "# exec\n",
    "with torch.no_grad():\n",
    "    outputs = net(imgs.cuda())\n",
    "    _, predicted = torch.max(outputs.data, 1)\n",
    "print(\"Predict: {}\".format(predicted.tolist()))"
   ]
  },
  {
   "cell_type": "markdown",
   "metadata": {},
   "source": [
    "## Test with custom pytorch Dataset and DataLoader"
   ]
  },
  {
   "cell_type": "code",
   "execution_count": 7,
   "metadata": {},
   "outputs": [
    {
     "data": {
      "image/png": "[encoded data removed]",
      "text/plain": [
       "<Figure size 432x288 with 6 Axes>"
      ]
     },
     "metadata": {
      "needs_background": "light"
     },
     "output_type": "display_data"
    },
    {
     "name": "stdout",
     "output_type": "stream",
     "text": [
      "Net loaded\n",
      "Predict: [1, 1, 4, 5, 1, 4]\n"
     ]
    }
   ],
   "source": [
    "from pathlib import Path\n",
    "from PIL import Image\n",
    "%matplotlib inline\n",
    "import matplotlib.pyplot as plt\n",
    "import torch\n",
    "from torch.utils.data import Dataset\n",
    "from torch.utils.data import DataLoader\n",
    "\n",
    "custom_dir = Path('custom_data')\n",
    "data_dir = custom_dir / '2'\n",
    "\n",
    "# read images\n",
    "imgs = [(int(i.stem), i) for i in data_dir.glob('*.png')]\n",
    "imgs.sort()\n",
    "imgs = [Image.open(i[1]) for i in imgs]\n",
    "\n",
    "# echo images\n",
    "fig, axs = plt.subplots(1, len(imgs))\n",
    "for img, ax in zip(imgs, axs):\n",
    "    ax.imshow(img, cmap='gray', vmin=0, vmax=255)\n",
    "plt.show()\n",
    "\n",
    "\n",
    "# Dataset\n",
    "class CustomTestDataset(Dataset):\n",
    "    def __init__(self):\n",
    "        self.data = []\n",
    "        for img in imgs:\n",
    "            image = transform(img)\n",
    "            label = ''\n",
    "            self.data.append((image, label))\n",
    "\n",
    "    def __len__(self):\n",
    "        return len(self.data)\n",
    "\n",
    "    def __getitem__(self, i):\n",
    "        return self.data[i]\n",
    "\n",
    "\n",
    "# DataLoader\n",
    "customTestDataset = CustomTestDataset()\n",
    "customTestDataLoader = DataLoader(\n",
    "    dataset=customTestDataset,\n",
    "    batch_size=2,\n",
    "    pin_memory=True,\n",
    "    shuffle=False\n",
    ")\n",
    "\n",
    "# load net\n",
    "net = Net().cuda()\n",
    "model_path = model_dir / '{}.pth'.format(net.NAME)\n",
    "net.load_state_dict(torch.load(model_path))\n",
    "print('Net loaded')\n",
    "\n",
    "# exec\n",
    "res = []\n",
    "with torch.no_grad():\n",
    "    for data in customTestDataLoader:\n",
    "        images = data[0].cuda()\n",
    "        outputs = net(images)\n",
    "        _, predicted = torch.max(outputs.data, 1)\n",
    "        res.extend(predicted.tolist())\n",
    "print(\"Predict: {}\".format(res))"
   ]
  }
 ],
 "metadata": {
  "kernelspec": {
   "display_name": "Python 3",
   "name": "python3"
  },
  "language_info": {
   "codemirror_mode": {
    "name": "ipython",
    "version": 3
   },
   "file_extension": ".py",
   "mimetype": "text/x-python",
   "name": "python",
   "nbconvert_exporter": "python",
   "pygments_lexer": "ipython3",
   "version": "3.9.10"
  },
  "orig_nbformat": 2
 },
 "nbformat": 4,
 "nbformat_minor": 2
}
